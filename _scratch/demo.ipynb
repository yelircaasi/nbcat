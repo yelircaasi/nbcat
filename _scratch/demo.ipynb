{
 "cells": [
  {
   "attachments": {},
   "cell_type": "markdown",
   "metadata": {},
   "source": [
    "# Test Document\n",
    "\n",
    "Let's see how well this works.\n",
    "\n",
    "## Subheader\n",
    "\n",
    "More text to see. Lots and lots of text."
   ]
  },
  {
   "cell_type": "code",
   "execution_count": null,
   "metadata": {},
   "outputs": [
    {
     "name": "stderr",
     "output_type": "stream",
     "text": [
      "2023-03-09 at 09:45:32 | Dossier ID: 1234567      | File ID: 2345678      | INFO      | __main__ (via decorator)             | Call do_stuff(2, 3)\n",
      "2023-03-09 at 09:45:32 | CRITICAL  | __main__                             | Incrementing!\n",
      "2023-03-09 at 09:45:32 | Dossier ID: 1234567      | File ID: 2345678      | INFO      | __main__                             | Testing dossier and file ids.\n",
      "2023-03-09 at 09:45:32 | TRACE     | __main__                             | This will not be logged unless the level is set to TRACE.\n",
      "2023-03-09 at 09:45:32 | Dossier ID: 1234567      | File ID: 2345678      | INFO      | __main__ (via decorator)             | -> None from do_stuff(2, 3)\n",
      "2023-03-09 at 09:45:32 | SUCCESS   | __main__                             | Stuff has been done.\n"
     ]
    },
    {
     "name": "stdout",
     "output_type": "stream",
     "text": [
      "x = 2\n",
      "y = 3\n",
      "3 + 4 = 12\n"
     ]
    }
   ],
   "source": [
    "import random\n",
    "import time\n",
    "\n",
    "from logging_utils.logging import get_logger\n",
    "\n",
    "logger = get_logger()\n",
    "logger.reconfigure(user_cfg={\"print_level\": \"TRACE\", \"with_ids\": True})\n",
    "\n",
    "@logger.decorate(level=\"INFO\", dossier_id=\"1234567\", file_id=\"2345678\")\n",
    "def do_stuff(x: int, y: int):\n",
    "    print(f\"x = {x}\\ny = {y}\")\n",
    "\n",
    "    def increment(a: int, b: int):\n",
    "        logger.critical(\"Incrementing!\")\n",
    "        logger.info(\"Testing dossier and file ids.\", dossier_id=\"1234567\", file_id=\"2345678\")\n",
    "        logger.trace(\"This will not be logged unless the level is set to TRACE.\")\n",
    "        return a + 1, b + 1\n",
    "\n",
    "    x, y = increment(x, y)\n",
    "    print(f\"{x} + {y} = {x * y}\")\n",
    "\n",
    "\n",
    "do_stuff(2, 3)\n",
    "logger.success(\"Stuff has been done.\")"
   ]
  },
  {
   "attachments": {},
   "cell_type": "markdown",
   "metadata": {},
   "source": []
  },
  {
   "cell_type": "code",
   "execution_count": null,
   "metadata": {},
   "outputs": [],
   "source": []
  }
 ],
 "metadata": {
  "kernelspec": {
   "display_name": "kn-utils-LtOy16sr-py3.8",
   "language": "python",
   "name": "python3"
  },
  "language_info": {
   "codemirror_mode": {
    "name": "ipython",
    "version": 3
   },
   "file_extension": ".py",
   "mimetype": "text/x-python",
   "name": "python",
   "nbconvert_exporter": "python",
   "pygments_lexer": "ipython3",
   "version": "3.8.16"
  },
  "orig_nbformat": 4
 },
 "nbformat": 4,
 "nbformat_minor": 2
}
